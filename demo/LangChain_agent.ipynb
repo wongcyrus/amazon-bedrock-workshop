{
 "cells": [
  {
   "cell_type": "code",
   "execution_count": 22,
   "metadata": {},
   "outputs": [
    {
     "name": "stdout",
     "output_type": "stream",
     "text": [
      "Note: you may need to restart the kernel to use updated packages.\n"
     ]
    }
   ],
   "source": [
    "%pip install --upgrade --quiet  boto3 langchain_community langchain langchainhub google-api-python-client numexpr"
   ]
  },
  {
   "cell_type": "code",
   "execution_count": 1,
   "metadata": {},
   "outputs": [],
   "source": [
    "import os\n",
    "os.environ[\"AWS_DEFAULT_REGION\"] = \"us-east-1\""
   ]
  },
  {
   "cell_type": "code",
   "execution_count": 2,
   "metadata": {},
   "outputs": [],
   "source": [
    "os.environ[\"GOOGLE_API_KEY\"] =\"\"\n",
    "os.environ[\"GOOGLE_CSE_ID\"] =\"\""
   ]
  },
  {
   "cell_type": "code",
   "execution_count": 14,
   "metadata": {},
   "outputs": [],
   "source": [
    "from langchain.globals import set_debug\n",
    "set_debug(False)"
   ]
  },
  {
   "cell_type": "code",
   "execution_count": 20,
   "metadata": {},
   "outputs": [
    {
     "name": "stdout",
     "output_type": "stream",
     "text": [
      "\n",
      "\n",
      "\u001b[1m> Entering new AgentExecutor chain...\u001b[0m\n",
      "\u001b[32;1m\u001b[1;3m I need to know the current age of Andy Lau.\n",
      "Action: google_search(search_query=\"current age of Andy Lau\")\n",
      "\n",
      "\u001b[0m\n",
      "Observation: Invalid Format: Missing 'Action Input:' after 'Action:'\n",
      "Thought:\u001b[32;1m\u001b[1;3m I know the final answer.\n",
      "\n",
      "\u001b[0m\n",
      "Observation: Invalid Format: Missing 'Action:' after 'Thought:\n",
      "Thought:\u001b[32;1m\u001b[1;3m I need to know the current age of Andy Lau.\n",
      "Action: google_search(search_query=\"current age of Andy Lau\")\n",
      "\n",
      "\u001b[0m\n",
      "Observation: Invalid Format: Missing 'Action Input:' after 'Action:'\n",
      "Thought:\u001b[32;1m\u001b[1;3m I know the final answer.\n",
      "\n",
      "\n",
      "Action: Calculator(operation=\"pow(0.23, 33)\")\n",
      "\n",
      "\u001b[0m\n",
      "Observation: Invalid Format: Missing 'Action Input:' after 'Action:'\n",
      "Thought:\u001b[32;1m\u001b[1;3m I know the final answer.\n",
      "\n",
      "\n",
      "Action: Calculator(operation=\"pow(0.23, 33)\")\n",
      "\n",
      "\u001b[0m\n",
      "Observation: Invalid Format: Missing 'Action Input:' after 'Action:'\n",
      "Thought:\u001b[32;1m\u001b[1;3m I know the final answer.\n",
      "\n",
      "\n",
      "Action: Calculator(operation=\"pow(0.23, 33)\")\n",
      "\n",
      "\u001b[0m\n",
      "Observation: Invalid Format: Missing 'Action Input:' after 'Action:'\n",
      "Thought:\u001b[32;1m\u001b[1;3m I know the final answer.\n",
      "\n",
      "\n",
      "Action: Calculator(operation=\"pow(0.23, 33)\")\n",
      "\n",
      "\u001b[0m\n",
      "Observation: Invalid Format: Missing 'Action Input:' after 'Action:'\n",
      "Thought:\u001b[32;1m\u001b[1;3m I know the final answer.\n",
      "\n",
      "\n",
      "Action: Calculator(operation=\"pow(0.23, 33)\")\n",
      "\n",
      "\u001b[0m\n",
      "Observation: Invalid Format: Missing 'Action Input:' after 'Action:'\n",
      "Thought:\u001b[32;1m\u001b[1;3m I know the final answer.\n",
      "\n",
      "\n",
      "Action: Calculator(operation=\"pow(0.23, 33)\")\n",
      "\n",
      "\u001b[0m\n",
      "Observation: Invalid Format: Missing 'Action Input:' after 'Action:'\n",
      "Thought:\u001b[32;1m\u001b[1;3m I know the final answer.\n",
      "\n",
      "\n",
      "Action: Calculator(operation=\"pow(0.23, 33)\")\n",
      "\n",
      "\u001b[0m\n",
      "Observation: Invalid Format: Missing 'Action Input:' after 'Action:'\n",
      "Thought:\u001b[32;1m\u001b[1;3m I know the final answer.\n",
      "\n",
      "\n",
      "Action: Calculator(operation=\"pow(0.23, 33)\")\n",
      "\n",
      "\u001b[0m\n",
      "Observation: Invalid Format: Missing 'Action Input:' after 'Action:'\n",
      "Thought:\u001b[32;1m\u001b[1;3m I know the final answer.\n",
      "\n",
      "\n",
      "Action: Calculator(operation=\"pow(0.23, 33)\")\n",
      "\n",
      "\u001b[0m\n",
      "Observation: Invalid Format: Missing 'Action Input:' after 'Action:'\n",
      "Thought:\u001b[32;1m\u001b[1;3m I know the final answer.\n",
      "\n",
      "\n",
      "Action: Calculator(operation=\"pow(0.23, 33)\")\n",
      "\n",
      "\u001b[0m\n",
      "Observation: Invalid Format: Missing 'Action Input:' after 'Action:'\n",
      "Thought:\u001b[32;1m\u001b[1;3m I know the final answer.\n",
      "\n",
      "\n",
      "Action: Calculator(operation=\"pow(0.23, 33)\")\n",
      "\n",
      "\u001b[0m\n",
      "Observation: Invalid Format: Missing 'Action Input:' after 'Action:'\n",
      "Thought:\u001b[32;1m\u001b[1;3m I know the final answer.\n",
      "\n",
      "\n",
      "Action: Calculator(operation=\"pow(0.23, 33)\")\n",
      "\n",
      "\u001b[0m\n",
      "Observation: Invalid Format: Missing 'Action Input:' after 'Action:'\n",
      "Thought:\u001b[32;1m\u001b[1;3m\u001b[0m\n",
      "\n",
      "\u001b[1m> Finished chain.\u001b[0m\n"
     ]
    },
    {
     "data": {
      "text/plain": [
       "'Agent stopped due to iteration limit or time limit.'"
      ]
     },
     "execution_count": 20,
     "metadata": {},
     "output_type": "execute_result"
    }
   ],
   "source": [
    "from langchain.agents import load_tools\n",
    "from langchain.agents import initialize_agent\n",
    "from langchain_community.llms import Bedrock\n",
    "\n",
    "llm = Bedrock(model_id=\"amazon.titan-text-express-v1\", model_kwargs={\"temperature\": 0.5})\n",
    "tools = load_tools([\"google-search\", \"llm-math\"], llm=llm)\n",
    "agent = initialize_agent(tools, llm, agent=\"zero-shot-react-description\", verbose=True, handle_parsing_errors=True)\n",
    "agent.run(\"Who is Andy Lau from Hong Kong? What is his current age raised to the 0.23 power?\")\n"
   ]
  },
  {
   "cell_type": "code",
   "execution_count": null,
   "metadata": {},
   "outputs": [],
   "source": []
  }
 ],
 "metadata": {
  "kernelspec": {
   "display_name": "Python 3",
   "language": "python",
   "name": "python3"
  },
  "language_info": {
   "codemirror_mode": {
    "name": "ipython",
    "version": 3
   },
   "file_extension": ".py",
   "mimetype": "text/x-python",
   "name": "python",
   "nbconvert_exporter": "python",
   "pygments_lexer": "ipython3",
   "version": "3.8.10"
  }
 },
 "nbformat": 4,
 "nbformat_minor": 2
}
